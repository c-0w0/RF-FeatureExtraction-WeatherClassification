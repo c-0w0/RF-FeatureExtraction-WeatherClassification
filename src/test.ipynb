{
 "cells": [
  {
   "cell_type": "code",
   "execution_count": 12,
   "id": "6d8d7281-3436-4456-9e13-7468f7338c1f",
   "metadata": {},
   "outputs": [
    {
     "name": "stdout",
     "output_type": "stream",
     "text": [
      "Predicted class: sunrise\n",
      "Confidence: 87.00%\n",
      "\n",
      "Detailed probabilities:\n",
      "cloudy: 5.00%\n",
      "rain: 2.00%\n",
      "shine: 6.00%\n",
      "sunrise: 87.00%\n"
     ]
    }
   ],
   "source": [
    "import pickle\n",
    "import numpy as np\n",
    "\n",
    "from img2vec_pytorch import Img2Vec\n",
    "from PIL import Image\n",
    "\n",
    "with open('./model.p', 'rb') as f:\n",
    "    model = pickle.load(f)\n",
    "\n",
    "img2vec = Img2Vec()\n",
    "\n",
    "image_path = '../data/val/sunrise/sunrise9.jpg'\n",
    "\n",
    "img = Image.open(image_path).convert('RGB')\n",
    "\n",
    "features = img2vec.get_vec(img)\n",
    "\n",
    "pred = model.predict([features])\n",
    "prob = model.predict_proba([features])[0]\n",
    "confidence = np.max(prob) * 100  # Convert to percentage\n",
    "\n",
    "print(f\"Predicted class: {pred[0]}\")\n",
    "print(f\"Confidence: {confidence:.2f}%\")\n",
    "\n",
    "# Optional: Print probabilities for all classes\n",
    "if hasattr(model, 'classes_'):\n",
    "    print(\"\\nDetailed probabilities:\")\n",
    "    for class_name, prob in zip(model.classes_, prob):\n",
    "        print(f\"{class_name}: {prob*100:.2f}%\")"
   ]
  },
  {
   "cell_type": "code",
   "execution_count": null,
   "id": "1e94403b-59da-436b-b673-da06f32100e8",
   "metadata": {},
   "outputs": [],
   "source": []
  }
 ],
 "metadata": {
  "kernelspec": {
   "display_name": "Python 3 (ipykernel)",
   "language": "python",
   "name": "python3"
  },
  "language_info": {
   "codemirror_mode": {
    "name": "ipython",
    "version": 3
   },
   "file_extension": ".py",
   "mimetype": "text/x-python",
   "name": "python",
   "nbconvert_exporter": "python",
   "pygments_lexer": "ipython3",
   "version": "3.12.9"
  }
 },
 "nbformat": 4,
 "nbformat_minor": 5
}
